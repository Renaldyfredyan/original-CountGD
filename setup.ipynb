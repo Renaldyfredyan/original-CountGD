{
 "cells": [
  {
   "cell_type": "code",
   "execution_count": null,
   "id": "1f4105e7-e7db-4d3c-b1d8-9a3e32456b88",
   "metadata": {},
   "outputs": [],
   "source": [
    "import os\n",
    "os.chdir('/kaggle/working/CountGD/')\n",
    "print(f\"Current working directory: {os.getcwd()}\")"
   ]
  },
  {
   "cell_type": "code",
   "execution_count": null,
   "id": "52afeef2-a114-4a5a-8e47-50dd7aa48408",
   "metadata": {},
   "outputs": [],
   "source": [
    "!pwd"
   ]
  },
  {
   "cell_type": "code",
   "execution_count": null,
   "id": "14b500f1-9bb9-4dc5-bb2d-799a5abda8b0",
   "metadata": {},
   "outputs": [],
   "source": [
    "\n",
    "!pip install -r requirements.txt\n",
    "\n",
    "%cd models/GroundingDINO/ops\n",
    "!python setup.py build install\n",
    "!python test.py # should result in 6 lines of * True\n",
    "!pip install git+https://github.com/facebookresearch/segment-anything.git\n",
    "%cd ../../../"
   ]
  },
  {
   "cell_type": "code",
   "execution_count": null,
   "id": "9cbd2964-0fe4-4895-ad99-57cc3e37ebb8",
   "metadata": {},
   "outputs": [],
   "source": [
    "!mkdir checkpoints"
   ]
  },
  {
   "cell_type": "code",
   "execution_count": null,
   "id": "1bf26b66-16da-4893-ac98-4c420867e854",
   "metadata": {},
   "outputs": [],
   "source": [
    "!python download_bert.py"
   ]
  },
  {
   "cell_type": "code",
   "execution_count": null,
   "id": "7dc8a3d3-df14-4f7a-b052-0d56eeeb0fb1",
   "metadata": {},
   "outputs": [],
   "source": [
    "!wget -P checkpoints https://github.com/IDEA-Research/GroundingDINO/releases/download/v0.1.0-alpha2/groundingdino_swinb_cogcoor.pth"
   ]
  },
  {
   "cell_type": "code",
   "execution_count": null,
   "id": "567e2552-cd4b-4b50-9088-1421c77f49cd",
   "metadata": {},
   "outputs": [],
   "source": [
    "!wget -P checkpoints https://dl.fbaipublicfiles.com/segment_anything/sam_vit_h_4b8939.pth"
   ]
  },
  {
   "cell_type": "code",
   "execution_count": null,
   "id": "25b38800-af6f-4dc6-a053-ab8843570c27",
   "metadata": {},
   "outputs": [],
   "source": [
    "# Download weight\n",
    "!gdown --id 1RbRcNLsOfeEbx6u39pBehqsgQiexHHrI -O checkpoints/"
   ]
  },
  {
   "cell_type": "code",
   "execution_count": null,
   "id": "7e0afd7a-1b90-477c-831e-e105d08c150e",
   "metadata": {},
   "outputs": [],
   "source": [
    "!gdown --id 1ymDYrGs9DSRicfZbSCDiOu0ikGDh5k6S -O FSC147_384_V2/"
   ]
  },
  {
   "cell_type": "code",
   "execution_count": null,
   "id": "130642db-08e7-4752-9786-a13354756d55",
   "metadata": {},
   "outputs": [],
   "source": []
  }
 ],
 "metadata": {
  "kernelspec": {
   "display_name": "Python 3 (ipykernel)",
   "language": "python",
   "name": "python3"
  },
  "language_info": {
   "codemirror_mode": {
    "name": "ipython",
    "version": 3
   },
   "file_extension": ".py",
   "mimetype": "text/x-python",
   "name": "python",
   "nbconvert_exporter": "python",
   "pygments_lexer": "ipython3",
   "version": "3.9.19"
  }
 },
 "nbformat": 4,
 "nbformat_minor": 5
}
